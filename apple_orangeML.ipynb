{
  "nbformat": 4,
  "nbformat_minor": 0,
  "metadata": {
    "colab": {
      "name": "apple_orangeML.ipynb",
      "version": "0.3.2",
      "provenance": []
    },
    "kernelspec": {
      "name": "python3",
      "display_name": "Python 3"
    }
  },
  "cells": [
    {
      "cell_type": "code",
      "metadata": {
        "id": "eJdORXTWxoo3",
        "colab_type": "code",
        "outputId": "eddd26d2-0ad1-419b-e81a-aa1fdf77515d",
        "colab": {
          "base_uri": "https://localhost:8080/",
          "height": 67
        }
      },
      "source": [
        "import matplotlib.pyplot as plt\n",
        "from sklearn.tree import DecisionTreeClassifier\n",
        "features=[(100,0),(120,0),(130,1),(150,1)]\n",
        "labels=['apple','apple','orange','orange']\n",
        "clf=DecisionTreeClassifier()\n",
        "trained=clf.fit(features,labels)\n",
        "weight=input(\"enter the weight\")\n",
        "texture=input(\"enter the texture as 0 or 1 if smooth or bumpy respectively\")\n",
        "output=trained.predict([[weight,texture]])\n",
        "print(output)"
      ],
      "execution_count": 0,
      "outputs": [
        {
          "output_type": "stream",
          "text": [
            "enter the weight140\n",
            "enter the texture as 0 or 1 if smooth or bumpy respectively0\n",
            "['orange']\n"
          ],
          "name": "stdout"
        }
      ]
    }
  ]
}