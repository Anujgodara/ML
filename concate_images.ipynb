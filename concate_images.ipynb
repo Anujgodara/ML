{
 "cells": [
  {
   "cell_type": "code",
   "execution_count": 9,
   "metadata": {},
   "outputs": [
    {
     "data": {
      "text/plain": [
       "-1"
      ]
     },
     "execution_count": 9,
     "metadata": {},
     "output_type": "execute_result"
    }
   ],
   "source": [
    "#importing cv2 module\n",
    "import cv2 \n",
    "import numpy as np\n",
    "\n",
    "img1=cv2.imread('img1.jpg')  #reads the image provided here\n",
    "img2=cv2.imread('img2.jpg')\n",
    "\n",
    "cv2.imshow('img1',img1)  #displays the image -- 1st parameter passed is the window-name and 2nd is the image\n",
    "cv2.imshow('img2',img2)\n",
    "\n",
    "#find the difference b/w 2 images\n",
    "diff=cv2.absdiff(img1,img2)   \n",
    "cv2.imshow('diff',diff)\n",
    "\n",
    "#adding 2 images\n",
    "add12=cv2.add(img1,img2)\n",
    "cv2.imshow('add',add12)\n",
    "\n",
    "#Weighted addition of images\n",
    "weighted_add=cv2.addWeighted(img1,0.55,img2,0.4,0)\n",
    "cv2.imshow('Weighted Add',weighted_add)\n",
    "\n",
    "#concatenating 2 images\n",
    "concat= np.concatenate((img1,img2), axis=1) #if axis=1 then concatenate horizontally\n",
    "                                            #if axis=0 then concatenate vertically\n",
    "cv2.imshow('concat',concat)\n",
    "\n",
    "#wait for window to close\n",
    "cv2.waitKey(0)#mili/micro seconds   ---- if given 0 then image wait for infinite time till we stop it"
   ]
  },
  {
   "cell_type": "code",
   "execution_count": null,
   "metadata": {},
   "outputs": [],
   "source": []
  }
 ],
 "metadata": {
  "kernelspec": {
   "display_name": "Python 3",
   "language": "python",
   "name": "python3"
  },
  "language_info": {
   "codemirror_mode": {
    "name": "ipython",
    "version": 3
   },
   "file_extension": ".py",
   "mimetype": "text/x-python",
   "name": "python",
   "nbconvert_exporter": "python",
   "pygments_lexer": "ipython3",
   "version": "3.7.3"
  }
 },
 "nbformat": 4,
 "nbformat_minor": 2
}
