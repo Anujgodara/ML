{
 "cells": [
  {
   "cell_type": "code",
   "execution_count": 3,
   "metadata": {},
   "outputs": [
    {
     "name": "stdout",
     "output_type": "stream",
     "text": [
      "(183, 275, 3)\n",
      "(183, 275, 3)\n"
     ]
    },
    {
     "data": {
      "text/plain": [
       "-1"
      ]
     },
     "execution_count": 3,
     "metadata": {},
     "output_type": "execute_result"
    }
   ],
   "source": [
    "import cv2 \n",
    "\n",
    "img1=cv2.imread('img1.jpg')  #reads the image\n",
    "img2=cv2.imread('img2.jpg')  #provide the image\n",
    "\n",
    "print(img1.shape)            #gives shape of image\n",
    "print(img2.shape)            #gives shape of image\n",
    "img1[0:150,0:150]=img2[0:150,0:150]  #slicing the image1 and storing it in image2\n",
    "cv2.imshow('crop1',img1)                              #showing the image1 \n",
    "\n",
    "img3=cv2.imread('img1.jpg')  \n",
    "img4=cv2.imread('img2.jpg')\n",
    "\n",
    "img4[0:150,0:150]=img3[0:150,0:150]\n",
    "cv2.imshow('crop2', img4)\n",
    "\n",
    "#replacing 10 rows and 20 columns of another image on an image\n",
    "img5=cv2.imread('img3.jpg')                  #provide the image\n",
    "img1[130:140,150:170]=img5[140:150,160:180]\n",
    "cv2.imshow('10*20',img1)\n",
    "\n",
    "\n",
    "#wait for window to close\n",
    "cv2.waitKey(0) #mili/micro seconds  "
   ]
  },
  {
   "cell_type": "code",
   "execution_count": 2,
   "metadata": {},
   "outputs": [
    {
     "name": "stdout",
     "output_type": "stream",
     "text": [
      "(183, 275, 3)\n"
     ]
    }
   ],
   "source": [
    "print(img1.shape)\n"
   ]
  },
  {
   "cell_type": "code",
   "execution_count": 3,
   "metadata": {},
   "outputs": [
    {
     "name": "stdout",
     "output_type": "stream",
     "text": [
      "(183, 275, 3)\n"
     ]
    }
   ],
   "source": [
    "print(img2.shape)\n"
   ]
  },
  {
   "cell_type": "code",
   "execution_count": 2,
   "metadata": {},
   "outputs": [
    {
     "name": "stdout",
     "output_type": "stream",
     "text": [
      "(183, 275, 3)\n"
     ]
    }
   ],
   "source": [
    "print(img3.shape)\n"
   ]
  },
  {
   "cell_type": "code",
   "execution_count": null,
   "metadata": {},
   "outputs": [],
   "source": []
  }
 ],
 "metadata": {
  "kernelspec": {
   "display_name": "Python 3",
   "language": "python",
   "name": "python3"
  },
  "language_info": {
   "codemirror_mode": {
    "name": "ipython",
    "version": 3
   },
   "file_extension": ".py",
   "mimetype": "text/x-python",
   "name": "python",
   "nbconvert_exporter": "python",
   "pygments_lexer": "ipython3",
   "version": "3.7.3"
  }
 },
 "nbformat": 4,
 "nbformat_minor": 2
}
