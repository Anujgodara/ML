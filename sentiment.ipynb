{
  "nbformat": 4,
  "nbformat_minor": 0,
  "metadata": {
    "colab": {
      "name": "sentiment.ipynb",
      "version": "0.3.2",
      "provenance": [],
      "include_colab_link": true
    },
    "kernelspec": {
      "name": "python3",
      "display_name": "Python 3"
    }
  },
  "cells": [
    {
      "cell_type": "markdown",
      "metadata": {
        "id": "view-in-github",
        "colab_type": "text"
      },
      "source": [
        "<a href=\"https://colab.research.google.com/github/Anujgodara/ML/blob/supervised_ML/sentiment.ipynb\" target=\"_parent\"><img src=\"https://colab.research.google.com/assets/colab-badge.svg\" alt=\"Open In Colab\"/></a>"
      ]
    },
    {
      "cell_type": "code",
      "metadata": {
        "id": "qbHc2oXoLvNb",
        "colab_type": "code",
        "colab": {}
      },
      "source": [
        "import tweepy\n",
        "import time\n",
        "import matplotlib.pyplot as plt\n",
        "from textblob import TextBlob"
      ],
      "execution_count": 0,
      "outputs": []
    },
    {
      "cell_type": "code",
      "metadata": {
        "id": "Tw6j5mqOLzZq",
        "colab_type": "code",
        "colab": {}
      },
      "source": [
        "#all 4 authentication keys to access twitter API\n",
        "#to connect as oath handler or jump server/reverse proxy server\n",
        "consumer_key='o69r3NU2sQIc5k6KRFmA3DjGr'\n",
        "consumer_sec='X6KFJEJthuwzHI4ahRdqBEPOcnCl4qO0QGGp2QoVybV8acVoab'\n",
        "\n",
        "#from proxy server we need to connect \n",
        "access_token='974243592100196352-9PvW5ADR9P3fSESt7muEXuHMRZFIUa0'\n",
        "access_sec='IVqnWFLt6Mp2JMlJw4CqRMZGpXeNoOTvDoTXmydz5qDES'\n"
      ],
      "execution_count": 0,
      "outputs": []
    },
    {
      "cell_type": "code",
      "metadata": {
        "id": "m8P9MXzHOpei",
        "colab_type": "code",
        "colab": {}
      },
      "source": [
        "#tweepy explore\n",
        "auth=tweepy.OAuthHandler(consumer_key,consumer_sec)"
      ],
      "execution_count": 0,
      "outputs": []
    },
    {
      "cell_type": "code",
      "metadata": {
        "id": "DoqNk7WTO918",
        "colab_type": "code",
        "colab": {}
      },
      "source": [
        "#now\n",
        "auth.set_access_token(access_token,access_sec)"
      ],
      "execution_count": 0,
      "outputs": []
    },
    {
      "cell_type": "code",
      "metadata": {
        "id": "AnmVOdhvPV2P",
        "colab_type": "code",
        "colab": {}
      },
      "source": [
        "api_connect=tweepy.API(auth)"
      ],
      "execution_count": 0,
      "outputs": []
    },
    {
      "cell_type": "code",
      "metadata": {
        "id": "wOOEYdeePdFO",
        "colab_type": "code",
        "colab": {}
      },
      "source": [
        "#now you can search any topic on twitter\n",
        "tweet_data=api_connect.search('terrorism',count=1000)"
      ],
      "execution_count": 0,
      "outputs": []
    },
    {
      "cell_type": "code",
      "metadata": {
        "id": "XDNloePDPsqE",
        "colab_type": "code",
        "outputId": "bbb963d9-e3a7-47d3-cec3-85dc32ede4b7",
        "colab": {
          "base_uri": "https://localhost:8080/",
          "height": 1000
        }
      },
      "source": [
        "pos=0\n",
        "neg=0\n",
        "neu=0\n",
        "for tweet in tweet_data:\n",
        "  #print(tweet)\n",
        "  analysis=TextBlob(tweet.text)\n",
        "  print(analysis.sentiment)\n",
        "  #now checking polarity only\n",
        "  if analysis.sentiment.polarity >0:\n",
        "    print(\"positive\")\n",
        "    pos=pos+1\n",
        "  elif analysis.sentiment.polarity==0:\n",
        "    print(\"neutral\")\n",
        "    neu=neu+1\n",
        "  else :\n",
        "    print(\"negative\")\n",
        "    neg=neg+1"
      ],
      "execution_count": 0,
      "outputs": [
        {
          "output_type": "stream",
          "text": [
            "Sentiment(polarity=0.0, subjectivity=0.0)\n",
            "neutral\n",
            "Sentiment(polarity=0.0, subjectivity=0.12222222222222222)\n",
            "neutral\n",
            "Sentiment(polarity=-0.012499999999999997, subjectivity=0.5625)\n",
            "negative\n",
            "Sentiment(polarity=0.5, subjectivity=0.5)\n",
            "positive\n",
            "Sentiment(polarity=0.0, subjectivity=0.0)\n",
            "neutral\n",
            "Sentiment(polarity=0.13636363636363635, subjectivity=0.45454545454545453)\n",
            "positive\n",
            "Sentiment(polarity=0.0, subjectivity=0.0)\n",
            "neutral\n",
            "Sentiment(polarity=0.5, subjectivity=0.5)\n",
            "positive\n",
            "Sentiment(polarity=0.0, subjectivity=0.75)\n",
            "neutral\n",
            "Sentiment(polarity=-0.3166666666666667, subjectivity=0.3)\n",
            "negative\n",
            "Sentiment(polarity=0.0, subjectivity=0.0)\n",
            "neutral\n",
            "Sentiment(polarity=0.0, subjectivity=0.0)\n",
            "neutral\n",
            "Sentiment(polarity=0.0, subjectivity=0.125)\n",
            "neutral\n",
            "Sentiment(polarity=-0.0625, subjectivity=0.5625)\n",
            "negative\n",
            "Sentiment(polarity=0.0, subjectivity=0.0)\n",
            "neutral\n",
            "Sentiment(polarity=0.0, subjectivity=0.0)\n",
            "neutral\n",
            "Sentiment(polarity=-0.17777777777777778, subjectivity=0.8722222222222221)\n",
            "negative\n",
            "Sentiment(polarity=0.05000000000000002, subjectivity=0.5)\n",
            "positive\n",
            "Sentiment(polarity=0.25, subjectivity=0.5)\n",
            "positive\n",
            "Sentiment(polarity=0.12857142857142856, subjectivity=0.5119047619047619)\n",
            "positive\n",
            "Sentiment(polarity=0.0, subjectivity=0.75)\n",
            "neutral\n",
            "Sentiment(polarity=0.5, subjectivity=0.5)\n",
            "positive\n",
            "Sentiment(polarity=0.13333333333333333, subjectivity=0.18888888888888888)\n",
            "positive\n",
            "Sentiment(polarity=0.0, subjectivity=0.0)\n",
            "neutral\n",
            "Sentiment(polarity=0.0, subjectivity=0.0)\n",
            "neutral\n",
            "Sentiment(polarity=0.0, subjectivity=0.0)\n",
            "neutral\n",
            "Sentiment(polarity=-0.3, subjectivity=0.4)\n",
            "negative\n",
            "Sentiment(polarity=0.038888888888888896, subjectivity=0.775)\n",
            "positive\n",
            "Sentiment(polarity=0.0, subjectivity=0.1)\n",
            "neutral\n",
            "Sentiment(polarity=0.0, subjectivity=0.0)\n",
            "neutral\n",
            "Sentiment(polarity=0.25, subjectivity=0.25)\n",
            "positive\n",
            "Sentiment(polarity=-0.125, subjectivity=0.125)\n",
            "negative\n",
            "Sentiment(polarity=0.2, subjectivity=0.2)\n",
            "positive\n",
            "Sentiment(polarity=0.25, subjectivity=0.25)\n",
            "positive\n",
            "Sentiment(polarity=0.0, subjectivity=0.0)\n",
            "neutral\n",
            "Sentiment(polarity=0.2, subjectivity=0.4)\n",
            "positive\n",
            "Sentiment(polarity=0.0, subjectivity=0.0)\n",
            "neutral\n",
            "Sentiment(polarity=0.0, subjectivity=0.0)\n",
            "neutral\n",
            "Sentiment(polarity=0.0, subjectivity=0.0)\n",
            "neutral\n",
            "Sentiment(polarity=-0.03333333333333333, subjectivity=0.16666666666666666)\n",
            "negative\n",
            "Sentiment(polarity=0.5, subjectivity=0.6666666666666667)\n",
            "positive\n",
            "Sentiment(polarity=0.1, subjectivity=0.1)\n",
            "positive\n",
            "Sentiment(polarity=0.2619047619047619, subjectivity=0.37857142857142856)\n",
            "positive\n",
            "Sentiment(polarity=0.6, subjectivity=1.0)\n",
            "positive\n",
            "Sentiment(polarity=-0.2, subjectivity=0.6)\n",
            "negative\n",
            "Sentiment(polarity=0.0, subjectivity=0.0)\n",
            "neutral\n",
            "Sentiment(polarity=0.1, subjectivity=0.2)\n",
            "positive\n",
            "Sentiment(polarity=0.5, subjectivity=0.7)\n",
            "positive\n",
            "Sentiment(polarity=-0.2, subjectivity=0.6)\n",
            "negative\n",
            "Sentiment(polarity=0.2619047619047619, subjectivity=0.37857142857142856)\n",
            "positive\n",
            "Sentiment(polarity=0.0, subjectivity=0.0)\n",
            "neutral\n",
            "Sentiment(polarity=0.0, subjectivity=0.0)\n",
            "neutral\n",
            "Sentiment(polarity=0.0, subjectivity=0.0)\n",
            "neutral\n",
            "Sentiment(polarity=-0.2, subjectivity=0.0)\n",
            "negative\n",
            "Sentiment(polarity=-0.012499999999999997, subjectivity=0.5625)\n",
            "negative\n",
            "Sentiment(polarity=0.22499999999999998, subjectivity=0.42500000000000004)\n",
            "positive\n",
            "Sentiment(polarity=-0.3333333333333333, subjectivity=0.7722222222222221)\n",
            "negative\n",
            "Sentiment(polarity=-0.2, subjectivity=0.6)\n",
            "negative\n",
            "Sentiment(polarity=0.0, subjectivity=0.0)\n",
            "neutral\n",
            "Sentiment(polarity=0.5, subjectivity=0.5)\n",
            "positive\n",
            "Sentiment(polarity=-0.012499999999999997, subjectivity=0.5625)\n",
            "negative\n",
            "Sentiment(polarity=-0.2, subjectivity=0.6)\n",
            "negative\n",
            "Sentiment(polarity=0.0857142857142857, subjectivity=0.24603174603174602)\n",
            "positive\n",
            "Sentiment(polarity=0.0, subjectivity=0.125)\n",
            "neutral\n",
            "Sentiment(polarity=-0.05138888888888888, subjectivity=0.37777777777777777)\n",
            "negative\n",
            "Sentiment(polarity=0.5, subjectivity=0.5)\n",
            "positive\n",
            "Sentiment(polarity=0.1, subjectivity=0.4)\n",
            "positive\n",
            "Sentiment(polarity=0.0, subjectivity=0.75)\n",
            "neutral\n",
            "Sentiment(polarity=0.0, subjectivity=0.0)\n",
            "neutral\n",
            "Sentiment(polarity=0.0, subjectivity=0.0)\n",
            "neutral\n",
            "Sentiment(polarity=0.0, subjectivity=0.0)\n",
            "neutral\n",
            "Sentiment(polarity=0.0, subjectivity=0.0)\n",
            "neutral\n",
            "Sentiment(polarity=0.0, subjectivity=0.0)\n",
            "neutral\n",
            "Sentiment(polarity=0.0, subjectivity=0.0)\n",
            "neutral\n",
            "Sentiment(polarity=0.0, subjectivity=0.0)\n",
            "neutral\n",
            "Sentiment(polarity=0.0, subjectivity=0.0)\n",
            "neutral\n",
            "Sentiment(polarity=0.0, subjectivity=0.25)\n",
            "neutral\n",
            "Sentiment(polarity=0.0, subjectivity=0.0)\n",
            "neutral\n",
            "Sentiment(polarity=0.0, subjectivity=0.0)\n",
            "neutral\n",
            "Sentiment(polarity=0.3, subjectivity=0.39999999999999997)\n",
            "positive\n",
            "Sentiment(polarity=-0.1, subjectivity=0.2)\n",
            "negative\n"
          ],
          "name": "stdout"
        }
      ]
    },
    {
      "cell_type": "code",
      "metadata": {
        "id": "sJ-DjRzlQLGx",
        "colab_type": "code",
        "outputId": "bda7b75d-515f-4cd4-f9d0-2cf9ebacf30e",
        "colab": {
          "base_uri": "https://localhost:8080/",
          "height": 283
        }
      },
      "source": [
        "plt.xlabel(\"tags\")\n",
        "plt.ylabel(\"polarity\")\n",
        "plt.bar(['pos','neg','neu'],[pos,neg,neu])\n",
        "plt.show()"
      ],
      "execution_count": 0,
      "outputs": [
        {
          "output_type": "display_data",
          "data": {
            "image/png": "[encoded data removed]",
            "text/plain": [
              "<Figure size 432x288 with 1 Axes>"
            ]
          },
          "metadata": {
            "tags": []
          }
        }
      ]
    },
    {
      "cell_type": "code",
      "metadata": {
        "id": "jtX6neO0TUSx",
        "colab_type": "code",
        "colab": {}
      },
      "source": [
        ""
      ],
      "execution_count": 0,
      "outputs": []
    }
  ]
}